{
  "nbformat": 4,
  "nbformat_minor": 0,
  "metadata": {
    "colab": {
      "provenance": [],
      "include_colab_link": true
    },
    "kernelspec": {
      "name": "python3",
      "display_name": "Python 3"
    },
    "language_info": {
      "name": "python"
    }
  },
  "cells": [
    {
      "cell_type": "markdown",
      "metadata": {
        "id": "view-in-github",
        "colab_type": "text"
      },
      "source": [
        "<a href=\"https://colab.research.google.com/github/HemaRavi94/Machine-Learning/blob/main/logistic_regression_assignment12.ipynb\" target=\"_parent\"><img src=\"https://colab.research.google.com/assets/colab-badge.svg\" alt=\"Open In Colab\"/></a>"
      ]
    },
    {
      "cell_type": "code",
      "metadata": {
        "id": "xugUQsM_jkbL"
      },
      "source": [
        "# Social_Network_Ads.csv"
      ],
      "execution_count": null,
      "outputs": []
    },
    {
      "cell_type": "markdown",
      "metadata": {
        "id": "t_YJ-uqLmRuD"
      },
      "source": [
        "This dataset contains information of users in a social network. Those informations are the user id the gender the age and the estimated salary. A car company has just launched their brand new luxury SUV. And we're trying to see which of these users of the social network are going to buy this brand new SUV And the last column here tells If yes or no the user bought this SUV we are going to build a model that is going to predict if a user is going to buy or not the SUV based on two variables which are going to be the age and the estimated salary. So our matrix of feature is only going to be these two columns. We want to find some correlations between the age and the estimated salary of a user and his decision to purchase yes or no the SUV.\n"
      ]
    },
    {
      "cell_type": "markdown",
      "metadata": {
        "id": "sgTgwccsk5Yu"
      },
      "source": [
        "**Step 1 | Data Pre-Processing**"
      ]
    },
    {
      "cell_type": "markdown",
      "metadata": {
        "id": "bKWN0MOblEKa"
      },
      "source": [
        "**Importing the Libraries**"
      ]
    },
    {
      "cell_type": "code",
      "metadata": {
        "id": "8cIjONoJj8u0"
      },
      "source": [
        "import pandas as pd\n",
        "from sklearn.model_selection import train_test_split\n",
        "from sklearn.preprocessing import StandardScaler\n",
        "from sklearn.linear_model import LogisticRegression\n",
        "from sklearn.metrics import classification_report\n",
        "from sklearn.metrics import confusion_matrix\n",
        "from sklearn.metrics import accuracy_score\n",
        "from sklearn import tree\n",
        "import matplotlib.pyplot as plt\n",
        "import seaborn as sns\n"
      ],
      "execution_count": null,
      "outputs": []
    },
    {
      "cell_type": "markdown",
      "metadata": {
        "id": "bM9O8a0YlNWk"
      },
      "source": [
        "**Importing the dataset**"
      ]
    },
    {
      "cell_type": "code",
      "metadata": {
        "id": "vfPLWJHRlM-4"
      },
      "source": [
        "df=pd.read_csv('Social_Network_Ads.csv')"
      ],
      "execution_count": null,
      "outputs": []
    },
    {
      "cell_type": "markdown",
      "metadata": {
        "id": "eHCKYPHylT5K"
      },
      "source": [
        "**Splitting the dataset into the Training set and Test set**"
      ]
    },
    {
      "cell_type": "code",
      "metadata": {
        "id": "o9msgi0sj72h",
        "colab": {
          "base_uri": "https://localhost:8080/"
        },
        "outputId": "8450ec4c-dba5-4e50-b502-5517be931948"
      },
      "source": [
        "x=df[['User ID', 'Gender', 'Age', 'EstimatedSalary']]\n",
        "y=df['Purchased']\n",
        "\n",
        "x_train, x_test, y_train, y_test = train_test_split(\n",
        "    x, y, test_size=0.03, random_state=0)\n",
        "\n",
        "x_train, x_test, y_train, y_test"
      ],
      "execution_count": null,
      "outputs": [
        {
          "output_type": "execute_result",
          "data": {
            "text/plain": [
              "(      User ID  Gender  Age  EstimatedSalary\n",
              " 113  15773447    Male   37            55000\n",
              " 348  15579212    Male   39            77000\n",
              " 12   15746139    Male   20            86000\n",
              " 59   15789109  Female   32           117000\n",
              " 293  15760570    Male   37            77000\n",
              " ..        ...     ...  ...              ...\n",
              " 323  15619465  Female   48            30000\n",
              " 192  15779581    Male   29            43000\n",
              " 117  15591433    Male   36            52000\n",
              " 47   15776348  Female   27            54000\n",
              " 172  15794661  Female   26           118000\n",
              " \n",
              " [388 rows x 4 columns],       User ID  Gender  Age  EstimatedSalary\n",
              " 132  15725660    Male   30            87000\n",
              " 309  15652400  Female   38            50000\n",
              " 341  15776844    Male   35            75000\n",
              " 196  15738448  Female   30            79000\n",
              " 246  15638003  Female   35            50000\n",
              " 60   15814004    Male   27            20000\n",
              " 155  15610140  Female   31            15000\n",
              " 261  15680587    Male   36           144000\n",
              " 141  15666141  Female   18            68000\n",
              " 214  15622478    Male   47            43000\n",
              " 37   15689425    Male   30            49000\n",
              " 134  15800061  Female   28            55000, 113    0\n",
              " 348    0\n",
              " 12     0\n",
              " 59     0\n",
              " 293    0\n",
              "       ..\n",
              " 323    1\n",
              " 192    0\n",
              " 117    0\n",
              " 47     0\n",
              " 172    0\n",
              " Name: Purchased, Length: 388, dtype: int64, 132    0\n",
              " 309    0\n",
              " 341    0\n",
              " 196    0\n",
              " 246    0\n",
              " 60     0\n",
              " 155    0\n",
              " 261    1\n",
              " 141    0\n",
              " 214    0\n",
              " 37     0\n",
              " 134    0\n",
              " Name: Purchased, dtype: int64)"
            ]
          },
          "metadata": {},
          "execution_count": 14
        }
      ]
    },
    {
      "cell_type": "markdown",
      "metadata": {
        "id": "AsfmGeH6lZ0O"
      },
      "source": [
        "**Feature Scaling**"
      ]
    },
    {
      "cell_type": "code",
      "metadata": {
        "id": "Xfifr6tlj77A",
        "colab": {
          "base_uri": "https://localhost:8080/"
        },
        "outputId": "a2abff11-fef2-4a28-811f-fa91a435f5ba"
      },
      "source": [
        "x=df[['User ID', 'Age', 'EstimatedSalary']]\n",
        "y=df['Purchased']\n",
        "x.shape,y.shape\n",
        "scaler= StandardScaler()\n",
        "standardization = scaler.fit_transform(x)\n",
        "standardization"
      ],
      "execution_count": null,
      "outputs": [
        {
          "output_type": "execute_result",
          "data": {
            "text/plain": [
              "array([[-0.93657932, -1.78179743, -1.49004624],\n",
              "       [ 1.66838653, -0.25358736, -1.46068138],\n",
              "       [-0.32087714, -1.11320552, -0.78528968],\n",
              "       ...,\n",
              "       [-0.52039175,  1.17910958, -1.46068138],\n",
              "       [ 0.88695546, -0.15807423, -1.07893824],\n",
              "       [-1.36231017,  1.08359645, -0.99084367]])"
            ]
          },
          "metadata": {},
          "execution_count": 15
        }
      ]
    },
    {
      "cell_type": "markdown",
      "metadata": {
        "id": "UkiSpylklf7z"
      },
      "source": [
        "**Step 2 | Logistic Regression Model**"
      ]
    },
    {
      "cell_type": "markdown",
      "metadata": {
        "id": "rhZgd1t_mfYg"
      },
      "source": [
        "The library for this job which is going to be the linear model library and it is called linear because the logistic regression is a linear classifier which means that here since we're in two dimensions, our two categories of users are going to be separated by a straight line. Then import the logistic regression class. Next we will create a new object from this class which is going to be our classifier that we are going to fit on our training set."
      ]
    },
    {
      "cell_type": "markdown",
      "metadata": {
        "id": "oCUEcLBflmPn"
      },
      "source": [
        "**Fitting Logistic Regression to the Training set**"
      ]
    },
    {
      "cell_type": "code",
      "metadata": {
        "id": "l8YSpSphj8FN",
        "colab": {
          "base_uri": "https://localhost:8080/"
        },
        "outputId": "4b23bb12-e521-4ef1-bed5-44e22252545a"
      },
      "source": [
        "x=df[['User ID', 'Age', 'EstimatedSalary']]\n",
        "y=df[['Purchased']]\n",
        "x_train,x_test,y_train,y_test=train_test_split(x,y,test_size=0.3)\n",
        "log=LogisticRegression()\n",
        "dtree=log.fit(x_train,y_train)\n"
      ],
      "execution_count": null,
      "outputs": [
        {
          "output_type": "stream",
          "name": "stderr",
          "text": [
            "/usr/local/lib/python3.7/dist-packages/sklearn/utils/validation.py:993: DataConversionWarning: A column-vector y was passed when a 1d array was expected. Please change the shape of y to (n_samples, ), for example using ravel().\n",
            "  y = column_or_1d(y, warn=True)\n"
          ]
        }
      ]
    },
    {
      "cell_type": "markdown",
      "metadata": {
        "id": "0DpkLwdRlvXX"
      },
      "source": [
        "**Step 3 | Predection**"
      ]
    },
    {
      "cell_type": "code",
      "metadata": {
        "id": "5X1PxviQlp0C",
        "colab": {
          "base_uri": "https://localhost:8080/"
        },
        "outputId": "47646d65-26e6-46ae-a549-2b9baf05f247"
      },
      "source": [
        "predicted=log.predict(x_test)\n",
        "print(classification_report(y_test,predicted))"
      ],
      "execution_count": null,
      "outputs": [
        {
          "output_type": "stream",
          "name": "stdout",
          "text": [
            "              precision    recall  f1-score   support\n",
            "\n",
            "           0       0.69      0.91      0.78        66\n",
            "           1       0.82      0.50      0.62        54\n",
            "\n",
            "    accuracy                           0.73       120\n",
            "   macro avg       0.75      0.70      0.70       120\n",
            "weighted avg       0.75      0.72      0.71       120\n",
            "\n"
          ]
        }
      ]
    },
    {
      "cell_type": "markdown",
      "metadata": {
        "id": "vdX1IU-Fl7Ak"
      },
      "source": [
        "**Step 4 | Evaluating The Predection**"
      ]
    },
    {
      "cell_type": "markdown",
      "metadata": {
        "id": "zPdZLTTQmqa9"
      },
      "source": [
        "We predicted the test results and now we will evaluate if our logistic regression model learned and understood correctly. So this confusion matrix is going to contain the correct predictions that our model made on the set as well as the incorrect predictions."
      ]
    },
    {
      "cell_type": "markdown",
      "metadata": {
        "id": "bxjKgSYvmBDn"
      },
      "source": [
        "**Making the Confusion Matrix**"
      ]
    },
    {
      "cell_type": "code",
      "metadata": {
        "id": "2_afjfcjlp88",
        "colab": {
          "base_uri": "https://localhost:8080/"
        },
        "outputId": "4b23d74f-818e-4c12-db04-b93c2b58f473"
      },
      "source": [
        "confusion_matrix(y_test,predicted)"
      ],
      "execution_count": null,
      "outputs": [
        {
          "output_type": "execute_result",
          "data": {
            "text/plain": [
              "array([[60,  6],\n",
              "       [27, 27]])"
            ]
          },
          "metadata": {},
          "execution_count": 7
        }
      ]
    },
    {
      "cell_type": "markdown",
      "metadata": {
        "id": "DARs2T8GmG3v"
      },
      "source": [
        "**Visualization**"
      ]
    },
    {
      "cell_type": "code",
      "metadata": {
        "id": "v_qMnhVilqBW",
        "colab": {
          "base_uri": "https://localhost:8080/",
          "height": 535
        },
        "outputId": "c265ee21-38ce-4904-dee8-cfb0ecd268c9"
      },
      "source": [
        "x=df[['User ID', 'Age', 'EstimatedSalary']]\n",
        "y=df[['Purchased']]\n",
        "X_train,X_test,y_train,y_test=train_test_split(x,y,test_size=0.3)\n",
        "log=LogisticRegression()\n",
        "log.fit(X_train,y_train)\n",
        "plt.figure(figsize=(9, 7))\n",
        "sns.stripplot(data=df, x=\"User ID\", y=\"Purchased\", jitter=False, size=13)\n",
        "plt.xlabel(\"UserID\", labelpad=13)\n",
        "plt.ylabel(\"Purchased\", labelpad=13)\n",
        "plt.title(\"Purchased based on UserID \", y=1.015, fontsize=20)\n",
        "plt.show()"
      ],
      "execution_count": null,
      "outputs": [
        {
          "output_type": "stream",
          "name": "stderr",
          "text": [
            "/usr/local/lib/python3.7/dist-packages/sklearn/utils/validation.py:993: DataConversionWarning: A column-vector y was passed when a 1d array was expected. Please change the shape of y to (n_samples, ), for example using ravel().\n",
            "  y = column_or_1d(y, warn=True)\n"
          ]
        },
        {
          "output_type": "display_data",
          "data": {
            "text/plain": [
              "<Figure size 648x504 with 1 Axes>"
            ],
            "image/png": "[encoded data removed]"
          },
          "metadata": {
            "needs_background": "light"
          }
        }
      ]
    }
  ]
}